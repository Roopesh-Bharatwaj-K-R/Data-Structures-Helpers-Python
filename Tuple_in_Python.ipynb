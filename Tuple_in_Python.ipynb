{
  "nbformat": 4,
  "nbformat_minor": 0,
  "metadata": {
    "colab": {
      "name": "Tuple in Python.ipynb",
      "provenance": []
    },
    "kernelspec": {
      "name": "python3",
      "display_name": "Python 3"
    },
    "language_info": {
      "name": "python"
    }
  },
  "cells": [
    {
      "cell_type": "markdown",
      "source": [
        "Tuple exaplanation in Python"
      ],
      "metadata": {
        "id": "-IG2-vTyiza-"
      }
    },
    {
      "cell_type": "code",
      "execution_count": 1,
      "metadata": {
        "colab": {
          "base_uri": "https://localhost:8080/"
        },
        "id": "ciXZpoVEivPI",
        "outputId": "9f745507-ab74-4a0b-84a3-16362829c279"
      },
      "outputs": [
        {
          "output_type": "stream",
          "name": "stdout",
          "text": [
            "('value', 'value1')\n"
          ]
        }
      ],
      "source": [
        "Tuple=('value','value1')\n",
        "print(Tuple)"
      ]
    },
    {
      "cell_type": "code",
      "source": [
        "print(type(Tuple))"
      ],
      "metadata": {
        "colab": {
          "base_uri": "https://localhost:8080/"
        },
        "id": "5tUnXXf0i_iN",
        "outputId": "ef404df7-a79e-47e1-d0de-6ac1bc973483"
      },
      "execution_count": 2,
      "outputs": [
        {
          "output_type": "stream",
          "name": "stdout",
          "text": [
            "<class 'tuple'>\n"
          ]
        }
      ]
    },
    {
      "cell_type": "code",
      "source": [
        "for x in Tuple: # Tuple can be iterated \n",
        "  print(x)"
      ],
      "metadata": {
        "colab": {
          "base_uri": "https://localhost:8080/"
        },
        "id": "bOuGPBXujFL7",
        "outputId": "0479164f-2ad2-4a19-cea1-e2384e1fce92"
      },
      "execution_count": 23,
      "outputs": [
        {
          "output_type": "stream",
          "name": "stdout",
          "text": [
            "value\n",
            "value1\n"
          ]
        }
      ]
    },
    {
      "cell_type": "code",
      "source": [
        "print(Tuple[0]) # Tuple can be Indexed "
      ],
      "metadata": {
        "colab": {
          "base_uri": "https://localhost:8080/"
        },
        "id": "z3gQ0uorjZJA",
        "outputId": "681aa02f-a8be-42d7-cdef-706a2ad67f6f"
      },
      "execution_count": 5,
      "outputs": [
        {
          "output_type": "stream",
          "name": "stdout",
          "text": [
            "value\n"
          ]
        }
      ]
    },
    {
      "cell_type": "code",
      "source": [
        "Tuple.append('Value2') # Tuple cannot be Mutable \n",
        "\n",
        "# AttributeError: 'tuple' object has no attribute 'append'"
      ],
      "metadata": {
        "colab": {
          "base_uri": "https://localhost:8080/",
          "height": 166
        },
        "id": "9db-k1g1je-5",
        "outputId": "f56a20a7-2411-4110-a680-86efe691fd3e"
      },
      "execution_count": 7,
      "outputs": [
        {
          "output_type": "error",
          "ename": "AttributeError",
          "evalue": "ignored",
          "traceback": [
            "\u001b[0;31m---------------------------------------------------------------------------\u001b[0m",
            "\u001b[0;31mAttributeError\u001b[0m                            Traceback (most recent call last)",
            "\u001b[0;32m<ipython-input-7-f11821b9b20b>\u001b[0m in \u001b[0;36m<module>\u001b[0;34m()\u001b[0m\n\u001b[0;32m----> 1\u001b[0;31m \u001b[0mTuple\u001b[0m\u001b[0;34m.\u001b[0m\u001b[0mappend\u001b[0m\u001b[0;34m(\u001b[0m\u001b[0;34m'Value2'\u001b[0m\u001b[0;34m)\u001b[0m\u001b[0;34m\u001b[0m\u001b[0;34m\u001b[0m\u001b[0m\n\u001b[0m",
            "\u001b[0;31mAttributeError\u001b[0m: 'tuple' object has no attribute 'append'"
          ]
        }
      ]
    },
    {
      "cell_type": "code",
      "source": [
        "value='value3'\n",
        "Tuple.insert(1, value) # Tuple cannot be changed or Mutable\n",
        "\n",
        "# AttributeError: 'tuple' object has no attribute 'insert'"
      ],
      "metadata": {
        "colab": {
          "base_uri": "https://localhost:8080/",
          "height": 184
        },
        "id": "dqqj9uQmkZwl",
        "outputId": "51230cb5-8ca7-4d41-9ce9-fcb04f41b57b"
      },
      "execution_count": 31,
      "outputs": [
        {
          "output_type": "error",
          "ename": "AttributeError",
          "evalue": "ignored",
          "traceback": [
            "\u001b[0;31m---------------------------------------------------------------------------\u001b[0m",
            "\u001b[0;31mAttributeError\u001b[0m                            Traceback (most recent call last)",
            "\u001b[0;32m<ipython-input-31-9f146d4f2b95>\u001b[0m in \u001b[0;36m<module>\u001b[0;34m()\u001b[0m\n\u001b[1;32m      1\u001b[0m \u001b[0mvalue\u001b[0m\u001b[0;34m=\u001b[0m\u001b[0;34m'value3'\u001b[0m\u001b[0;34m\u001b[0m\u001b[0;34m\u001b[0m\u001b[0m\n\u001b[0;32m----> 2\u001b[0;31m \u001b[0mTuple\u001b[0m\u001b[0;34m.\u001b[0m\u001b[0minsert\u001b[0m\u001b[0;34m(\u001b[0m\u001b[0;36m1\u001b[0m\u001b[0;34m,\u001b[0m \u001b[0mvalue\u001b[0m\u001b[0;34m)\u001b[0m \u001b[0;31m# Tuple cannot be changed or Mutable\u001b[0m\u001b[0;34m\u001b[0m\u001b[0;34m\u001b[0m\u001b[0m\n\u001b[0m",
            "\u001b[0;31mAttributeError\u001b[0m: 'tuple' object has no attribute 'insert'"
          ]
        }
      ]
    },
    {
      "cell_type": "code",
      "source": [
        "# Negative Indexing \n",
        "print(Tuple[-1]) # Prints last element in Tuple"
      ],
      "metadata": {
        "colab": {
          "base_uri": "https://localhost:8080/"
        },
        "id": "JsWdmCPUla9X",
        "outputId": "3cfbc7fa-0f0f-4801-f850-fde0deb04ae2"
      },
      "execution_count": 11,
      "outputs": [
        {
          "output_type": "stream",
          "name": "stdout",
          "text": [
            "value1\n"
          ]
        }
      ]
    },
    {
      "cell_type": "code",
      "source": [
        "print(Tuple[-2]) # Prints 2nd last element"
      ],
      "metadata": {
        "colab": {
          "base_uri": "https://localhost:8080/"
        },
        "id": "H1VgV7QztTxe",
        "outputId": "b2c741a6-32e0-4461-b3f2-10abf1c07796"
      },
      "execution_count": 32,
      "outputs": [
        {
          "output_type": "stream",
          "name": "stdout",
          "text": [
            "value\n"
          ]
        }
      ]
    },
    {
      "cell_type": "code",
      "source": [
        "# convert Tuple to List and add element\n",
        "\n",
        "List_Tuple= list(Tuple)\n",
        "print(List_Tuple)\n",
        "List_Tuple.append('value2')\n",
        "print('Appended Value2 ', List_Tuple)\n",
        "\n",
        "# Remove a Tuple using List (First Convert Tuple to List and then remove)\n",
        "Tuple_To_Remove= list(List_Tuple)\n",
        "Tuple_To_Remove.remove('value2')\n",
        "print('Removed Value2 : ',Tuple_To_Remove)\n"
      ],
      "metadata": {
        "colab": {
          "base_uri": "https://localhost:8080/"
        },
        "id": "MfJdCl68muBh",
        "outputId": "9c8d4207-cce3-40e5-e6e5-bfdb863c5394"
      },
      "execution_count": 38,
      "outputs": [
        {
          "output_type": "stream",
          "name": "stdout",
          "text": [
            "['value', 'value1']\n",
            "Appended Value2  ['value', 'value1', 'value2']\n",
            "Removed Value2 :  ['value', 'value1']\n"
          ]
        }
      ]
    },
    {
      "cell_type": "markdown",
      "source": [
        ""
      ],
      "metadata": {
        "id": "r_vzgWvzuTIA"
      }
    },
    {
      "cell_type": "code",
      "source": [
        "# Adding Tuple with another Tuple\n",
        "\n",
        "Tuple_2=('value3', 'value4')\n",
        "Add_2_Tuple= Tuple+ Tuple_2\n",
        "print('Adding with 2 Tuples', Add_2_Tuple)"
      ],
      "metadata": {
        "colab": {
          "base_uri": "https://localhost:8080/"
        },
        "id": "n_oRQ5VvtsWL",
        "outputId": "f38d029b-0085-4fe9-9443-cdee8cff1cc5"
      },
      "execution_count": 39,
      "outputs": [
        {
          "output_type": "stream",
          "name": "stdout",
          "text": [
            "Adding with 2 Tuples ('value', 'value1', 'value3', 'value4')\n"
          ]
        }
      ]
    },
    {
      "cell_type": "code",
      "source": [
        "# Unpacking Tuple\n",
        "Tuple=('value', 'value1', 'value2')\n",
        "print(Tuple) # 'value', 'value1', 'value2']\n",
        "(a,b,c)=Tuple\n",
        "print(a)\n",
        "print(b)\n",
        "print(c)"
      ],
      "metadata": {
        "colab": {
          "base_uri": "https://localhost:8080/"
        },
        "id": "ZYBBUOSWs8rY",
        "outputId": "40b7d4e9-877d-441c-cae0-22840b4a1b4d"
      },
      "execution_count": 46,
      "outputs": [
        {
          "output_type": "stream",
          "name": "stdout",
          "text": [
            "('value', 'value1', 'value2')\n",
            "value\n",
            "value1\n",
            "value2\n"
          ]
        }
      ]
    },
    {
      "cell_type": "code",
      "source": [
        "# using *\n",
        "print('Tuple:',Tuple) # 'value', 'value1', 'value2']\n",
        "(w,*v)=Tuple # value after * it takes values  \n",
        "print('First :',w)\n",
        "print('Second :',v)\n"
      ],
      "metadata": {
        "colab": {
          "base_uri": "https://localhost:8080/"
        },
        "id": "9aIYa2Zqs83P",
        "outputId": "1a79c197-15b2-4489-fdf3-84d8f97a632a"
      },
      "execution_count": 50,
      "outputs": [
        {
          "output_type": "stream",
          "name": "stdout",
          "text": [
            "Tuple: ('Value', 'value1', 'value2')\n",
            "First : Value\n",
            "Second : ['value1', 'value2']\n"
          ]
        }
      ]
    },
    {
      "cell_type": "code",
      "source": [
        "# Multiply Tuples\n",
        "Tuple=('Value', 'value1', 'value2')\n",
        "multiply= Tuple*2\n",
        "print(multiply)"
      ],
      "metadata": {
        "colab": {
          "base_uri": "https://localhost:8080/"
        },
        "id": "59r0N4ris894",
        "outputId": "0315f50c-bf43-40c6-e9a4-9a91c683a09b"
      },
      "execution_count": 49,
      "outputs": [
        {
          "output_type": "stream",
          "name": "stdout",
          "text": [
            "('Value', 'value1', 'value2', 'Value', 'value1', 'value2')\n"
          ]
        }
      ]
    }
  ]
}